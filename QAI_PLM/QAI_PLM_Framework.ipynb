{
  "nbformat": 4,
  "nbformat_minor": 0,
  "metadata": {
    "colab": {
      "provenance": []
    },
    "kernelspec": {
      "name": "python3",
      "display_name": "Python 3"
    },
    "language_info": {
      "name": "python"
    }
  },
  "cells": [
    {
      "cell_type": "markdown",
      "source": [
        "# **QAI PLM Framework**\n",
        "\n",
        "QAI Product Lifecycle using SAFe Agile, complete with dummy AI/Quantum logic, sprint tracking, and client feedback loops\n",
        "\n",
        "✅ Key Features:\n",
        "\n",
        "    1) Client Inputs & GenAI Refinement\n",
        "\n",
        "    2) Dummy Quantum Results (Simulated shot counts)\n",
        "\n",
        "    3) Agile Sprint Iterations with SAFe roles & artifacts\n",
        "\n",
        "    4) Track Deliverables, Blockers, Feedback"
      ],
      "metadata": {
        "id": "sfah9XbmJDSq"
      }
    },
    {
      "cell_type": "code",
      "execution_count": 1,
      "metadata": {
        "colab": {
          "base_uri": "https://localhost:8080/"
        },
        "id": "Nf9tP6vRFRwE",
        "outputId": "558ebb3c-56b1-4af8-f4e0-2bbe9b14835b"
      },
      "outputs": [
        {
          "output_type": "stream",
          "name": "stdout",
          "text": [
            "            Phase Iteration  \\\n",
            "0        Ideation      PI-1   \n",
            "1             MVP      PI-2   \n",
            "2          Design      PI-3   \n",
            "3  Implementation      PI-4   \n",
            "4      Validation      PI-5   \n",
            "5          Launch      PI-6   \n",
            "6         Sustain      PI-7   \n",
            "\n",
            "                                              Client Input  \\\n",
            "0         Need multi-sensor emergency bot for urban rescue   \n",
            "1  Include AI fire hazard detector and auto drone dispatch   \n",
            "2               Integrate drone with thermal + gas sensors   \n",
            "3       Use QAI processor and quantum secure communication   \n",
            "4                 Test in 2 pilot cities with DRDO support   \n",
            "5                          Deploy in 10 critical locations   \n",
            "6             Periodic upgrade using GenAI usage analytics   \n",
            "\n",
            "                                                                                    AI Output  \\\n",
            "0         Refined prompt: 'Need multi-sensor emergency bot for urban rescue' with GenAI logic   \n",
            "1  Refined prompt: 'Include AI fire hazard detector and auto drone dispatch' with GenAI logic   \n",
            "2               Refined prompt: 'Integrate drone with thermal + gas sensors' with GenAI logic   \n",
            "3       Refined prompt: 'Use QAI processor and quantum secure communication' with GenAI logic   \n",
            "4                 Refined prompt: 'Test in 2 pilot cities with DRDO support' with GenAI logic   \n",
            "5                          Refined prompt: 'Deploy in 10 critical locations' with GenAI logic   \n",
            "6             Refined prompt: 'Periodic upgrade using GenAI usage analytics' with GenAI logic   \n",
            "\n",
            "         Quantum Output         Feedback                        SAFe Roles  \\\n",
            "0                   N/A          Pending   System Architect, Product Owner   \n",
            "1  {'0': 474, '1': 497}          Pending       Scrum Master, Product Owner   \n",
            "2                   N/A         Positive       Scrum Master, Product Owner   \n",
            "3  {'0': 548, '1': 459}          Pending   System Architect, Product Owner   \n",
            "4                   N/A          Pending  Business Owner, System Architect   \n",
            "5  {'0': 467, '1': 539}  Requires Change       Scrum Master, Product Owner   \n",
            "6                   N/A  Requires Change   Product Owner, System Architect   \n",
            "\n",
            "                                 Artifacts  \n",
            "0           Iteration Goals, Epic, Feature  \n",
            "1     User Story, Feature, Iteration Goals  \n",
            "2        Iteration Goals, Epic, Capability  \n",
            "3        Iteration Goals, User Story, Epic  \n",
            "4  User Story, Iteration Goals, Capability  \n",
            "5  Capability, Iteration Goals, User Story  \n",
            "6           Iteration Goals, Epic, Feature  \n",
            "\n",
            "✅ CSV saved: QAI_PLM_SAFe_Simulation.csv\n"
          ]
        }
      ],
      "source": [
        "import random\n",
        "import pandas as pd\n",
        "\n",
        "# --- Dummy AI and Quantum Functions ---\n",
        "def dummy_ai_refine(client_input):\n",
        "    return f\"Refined prompt: '{client_input}' with GenAI logic\"\n",
        "\n",
        "def dummy_quantum_result():\n",
        "    return {'0': random.randint(450, 550), '1': random.randint(450, 550)}\n",
        "\n",
        "# --- SAFe Roles and Artifacts ---\n",
        "safe_roles = {\n",
        "    \"PI-1\": [\"System Architect\", \"Product Owner\"],\n",
        "    \"PI-2\": [\"Scrum Master\", \"Product Owner\"],\n",
        "    \"PI-3\": [\"Scrum Master\", \"Product Owner\"],\n",
        "    \"PI-4\": [\"System Architect\", \"Product Owner\"],\n",
        "    \"PI-5\": [\"Business Owner\", \"System Architect\"],\n",
        "    \"PI-6\": [\"Scrum Master\", \"Product Owner\"],\n",
        "    \"PI-7\": [\"Product Owner\", \"System Architect\"],\n",
        "}\n",
        "\n",
        "safe_artifacts = {\n",
        "    \"PI-1\": [\"Iteration Goals\", \"Epic\", \"Feature\"],\n",
        "    \"PI-2\": [\"User Story\", \"Feature\", \"Iteration Goals\"],\n",
        "    \"PI-3\": [\"Iteration Goals\", \"Epic\", \"Capability\"],\n",
        "    \"PI-4\": [\"Iteration Goals\", \"User Story\", \"Epic\"],\n",
        "    \"PI-5\": [\"User Story\", \"Iteration Goals\", \"Capability\"],\n",
        "    \"PI-6\": [\"Capability\", \"Iteration Goals\", \"User Story\"],\n",
        "    \"PI-7\": [\"Iteration Goals\", \"Epic\", \"Feature\"],\n",
        "}\n",
        "\n",
        "# --- QAI PLM Lifecycle Phases ---\n",
        "plm_phases = [\n",
        "    \"Ideation\", \"MVP\", \"Design\", \"Implementation\", \"Validation\", \"Launch\", \"Sustain\"\n",
        "]\n",
        "\n",
        "client_inputs = [\n",
        "    \"Need multi-sensor emergency bot for urban rescue\",\n",
        "    \"Include AI fire hazard detector and auto drone dispatch\",\n",
        "    \"Integrate drone with thermal + gas sensors\",\n",
        "    \"Use QAI processor and quantum secure communication\",\n",
        "    \"Test in 2 pilot cities with DRDO support\",\n",
        "    \"Deploy in 10 critical locations\",\n",
        "    \"Periodic upgrade using GenAI usage analytics\"\n",
        "]\n",
        "\n",
        "feedback_options = [\"Positive\", \"Requires Change\", \"Pending\"]\n",
        "\n",
        "# --- Build Sprint Log ---\n",
        "sprint_log = []\n",
        "\n",
        "for i, phase in enumerate(plm_phases):\n",
        "    pi_id = f\"PI-{i+1}\"\n",
        "    client_input = client_inputs[i]\n",
        "    ai_output = dummy_ai_refine(client_input)\n",
        "    quantum_output = dummy_quantum_result() if i % 2 != 0 else \"N/A\"\n",
        "    feedback = random.choice(feedback_options)\n",
        "    roles = \", \".join(safe_roles[pi_id])\n",
        "    artifacts = \", \".join(safe_artifacts[pi_id])\n",
        "\n",
        "    sprint_log.append({\n",
        "        \"Phase\": phase,\n",
        "        \"Iteration\": pi_id,\n",
        "        \"Client Input\": client_input,\n",
        "        \"AI Output\": ai_output,\n",
        "        \"Quantum Output\": quantum_output,\n",
        "        \"Feedback\": feedback,\n",
        "        \"SAFe Roles\": roles,\n",
        "        \"Artifacts\": artifacts\n",
        "    })\n",
        "\n",
        "# --- Create and Display Table ---\n",
        "df = pd.DataFrame(sprint_log)\n",
        "pd.set_option(\"display.max_colwidth\", None)\n",
        "print(df)\n",
        "\n",
        "# --- Optional: Save as CSV ---\n",
        "df.to_csv(\"QAI_PLM_SAFe_Simulation.csv\", index=False)\n",
        "print(\"\\n✅ CSV saved: QAI_PLM_SAFe_Simulation.csv\")\n"
      ]
    },
    {
      "cell_type": "markdown",
      "source": [
        "**Concept and execution by Bhadale IT, code generated by ChatGPT**"
      ],
      "metadata": {
        "id": "BphTi6flJYZA"
      }
    }
  ]
}