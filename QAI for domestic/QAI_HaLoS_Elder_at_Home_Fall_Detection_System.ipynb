{
  "nbformat": 4,
  "nbformat_minor": 0,
  "metadata": {
    "colab": {
      "provenance": []
    },
    "kernelspec": {
      "name": "python3",
      "display_name": "Python 3"
    },
    "language_info": {
      "name": "python"
    }
  },
  "cells": [
    {
      "cell_type": "markdown",
      "source": [
        "# **QAI-HaLoS: Elder at Home - Fall Detection System**\n",
        "\n",
        "“Elder at home – fall risk detection and response” use case in the QAI-HaLoS™ framework. It simulates:\n",
        "\n",
        "    1) Input from quantum-inspired sensors (pressure, humidity, motion).\n",
        "\n",
        "    2) AI-based inference to detect fall risk.\n",
        "\n",
        "    3) Decision logic with an ethical override (e.g., alert family vs call emergency).\n",
        "\n",
        "    4) Actuator simulation (dryer on, send alert)."
      ],
      "metadata": {
        "id": "ek2ed4AGKjQw"
      }
    },
    {
      "cell_type": "code",
      "execution_count": 2,
      "metadata": {
        "colab": {
          "base_uri": "https://localhost:8080/"
        },
        "id": "GCmQMiE2KK9B",
        "outputId": "4867282f-7edc-44ab-ba81-e0b5b002ebb8"
      },
      "outputs": [
        {
          "output_type": "stream",
          "name": "stdout",
          "text": [
            "🧠 QAI-HaLoS™ Fall Detection System – Hybrid QAI Activated...\n",
            "\n",
            "[Sensors] Pressure: 0, Humidity: 0.62, Motion: 1\n",
            "[Quantum Check] Mobility anomaly detected? False\n",
            "[AI Inference] Fall Risk Level: Low\n",
            "[ACTUATOR] → Action: None\n",
            "[ALERT] → Sent: Monitor silently (Priority: Normal)\n"
          ]
        }
      ],
      "source": [
        "# QAI-HaLoS™ Final Simulation: Fall Detection with Quantum, AI, and Hybrid Modules\n",
        "\n",
        "import random\n",
        "import time\n",
        "from sklearn.tree import DecisionTreeClassifier\n",
        "import numpy as np\n",
        "\n",
        "# -------------------------------------------------------------------\n",
        "# 1. SENSOR SIMULATORS (Quantum-inspired sensing interface)\n",
        "# -------------------------------------------------------------------\n",
        "\n",
        "class PressureSensor:\n",
        "    def read(self):\n",
        "        return random.choice([0, 1, 2])  # 0=no pressure, 1=normal, 2=collapsed\n",
        "\n",
        "class HumiditySensor:\n",
        "    def read(self):\n",
        "        return round(random.uniform(0.5, 0.9), 2)\n",
        "\n",
        "class MotionSensor:\n",
        "    def read(self):\n",
        "        return random.choice([0, 0, 1])  # more likely to be still\n",
        "\n",
        "# -------------------------------------------------------------------\n",
        "# 2. PURE QUANTUM FUNCTION: Simulated Quantum Random Walk\n",
        "# -------------------------------------------------------------------\n",
        "\n",
        "def quantum_mobility_anomaly():\n",
        "    \"\"\"Simulate a quantum random walk (mobility variation)\"\"\"\n",
        "    position = 0\n",
        "    steps = [random.choice([-1, 1]) for _ in range(10)]\n",
        "    for step in steps:\n",
        "        position += step\n",
        "    if abs(position) > 6:\n",
        "        return True  # Unusual movement pattern\n",
        "    return False\n",
        "\n",
        "# -------------------------------------------------------------------\n",
        "# 3. PURE AI MODULE: Decision Tree Inference\n",
        "# -------------------------------------------------------------------\n",
        "\n",
        "# Training dummy AI model for risk inference\n",
        "def train_ai_model():\n",
        "    X = np.array([\n",
        "        [0, 0.5, 1],  # Low risk\n",
        "        [1, 0.6, 1],  # Low\n",
        "        [1, 0.8, 0],  # Medium\n",
        "        [2, 0.9, 0],  # High\n",
        "        [2, 0.75, 0]  # High\n",
        "    ])\n",
        "    y = [\"Low\", \"Low\", \"Medium\", \"High\", \"High\"]\n",
        "    model = DecisionTreeClassifier()\n",
        "    model.fit(X, y)\n",
        "    return model\n",
        "\n",
        "# -------------------------------------------------------------------\n",
        "# 4. HYBRID QAI MODULE: Ethical Decision Logic\n",
        "# -------------------------------------------------------------------\n",
        "\n",
        "def hybrid_ethics_engine(risk_level, quantum_anomaly):\n",
        "    if risk_level == \"High\" or quantum_anomaly:\n",
        "        return {\n",
        "            \"alert\": \"Call emergency + notify family\",\n",
        "            \"actuator\": \"Turn ON dryer\",\n",
        "            \"priority\": \"Critical\"\n",
        "        }\n",
        "    elif risk_level == \"Medium\":\n",
        "        return {\n",
        "            \"alert\": \"Notify caregiver\",\n",
        "            \"actuator\": \"Turn ON dryer\",\n",
        "            \"priority\": \"Warning\"\n",
        "        }\n",
        "    else:\n",
        "        return {\n",
        "            \"alert\": \"Monitor silently\",\n",
        "            \"actuator\": \"None\",\n",
        "            \"priority\": \"Normal\"\n",
        "        }\n",
        "\n",
        "# -------------------------------------------------------------------\n",
        "# 5. Actuator and Communication Simulation\n",
        "# -------------------------------------------------------------------\n",
        "\n",
        "def simulate_actuation(actions):\n",
        "    print(f\"[ACTUATOR] → Action: {actions['actuator']}\")\n",
        "    print(f\"[ALERT] → Sent: {actions['alert']} (Priority: {actions['priority']})\")\n",
        "\n",
        "# -------------------------------------------------------------------\n",
        "# 6. MAIN QAI-HaLoS™ FALL DETECTION SIMULATION\n",
        "# -------------------------------------------------------------------\n",
        "\n",
        "def simulate_qai_fall_detection():\n",
        "    print(\"🧠 QAI-HaLoS™ Fall Detection System – Hybrid QAI Activated...\\n\")\n",
        "    time.sleep(1)\n",
        "\n",
        "    # Step 1: Read Sensor Data\n",
        "    pressure = PressureSensor().read()\n",
        "    humidity = HumiditySensor().read()\n",
        "    motion = MotionSensor().read()\n",
        "    print(f\"[Sensors] Pressure: {pressure}, Humidity: {humidity}, Motion: {motion}\")\n",
        "\n",
        "    # Step 2: Pure Quantum Check (mobility anomaly detection)\n",
        "    quantum_anomaly = quantum_mobility_anomaly()\n",
        "    print(f\"[Quantum Check] Mobility anomaly detected? {quantum_anomaly}\")\n",
        "\n",
        "    # Step 3: AI Risk Inference (Pure AI)\n",
        "    model = train_ai_model()\n",
        "    X_test = np.array([[pressure, humidity, motion]])\n",
        "    risk_level = model.predict(X_test)[0]\n",
        "    print(f\"[AI Inference] Fall Risk Level: {risk_level}\")\n",
        "\n",
        "    # Step 4: Hybrid QAI Ethical Engine\n",
        "    action = hybrid_ethics_engine(risk_level, quantum_anomaly)\n",
        "\n",
        "    # Step 5: Actuator & Alerts\n",
        "    simulate_actuation(action)\n",
        "\n",
        "# Run the full QAI system simulation\n",
        "simulate_qai_fall_detection()\n"
      ]
    },
    {
      "cell_type": "markdown",
      "source": [
        "**Concept and execution by Bhadale IT, code generated by ChatGPT**"
      ],
      "metadata": {
        "id": "R-huMH0cMBkZ"
      }
    }
  ]
}