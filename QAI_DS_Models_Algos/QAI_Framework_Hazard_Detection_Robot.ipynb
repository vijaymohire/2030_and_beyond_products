{
  "nbformat": 4,
  "nbformat_minor": 0,
  "metadata": {
    "colab": {
      "provenance": []
    },
    "kernelspec": {
      "name": "python3",
      "display_name": "Python 3"
    },
    "language_info": {
      "name": "python"
    }
  },
  "cells": [
    {
      "cell_type": "markdown",
      "source": [
        "# **QAI Framework: Hazard Detection Robot**\n",
        "\n",
        "Colab-ready QAI Robot Simulation Code for a happy use case where the robot scans the environment, detects hazards using quantum-inspired logic, and reports findings with a visual map. This demonstrates the use of QAI datastructures, models, and algorithms used in QAI Robot"
      ],
      "metadata": {
        "id": "aPlrObsTMs-7"
      }
    },
    {
      "cell_type": "code",
      "execution_count": 1,
      "metadata": {
        "colab": {
          "base_uri": "https://localhost:8080/",
          "height": 707
        },
        "id": "vmlESBwKMW7e",
        "outputId": "42e2e659-775f-4238-f08c-1fe55865fd5a"
      },
      "outputs": [
        {
          "output_type": "stream",
          "name": "stdout",
          "text": [
            ">>> Initializing QAI Framework...\n",
            ">>> Generating environment matrix...\n",
            ">>> Encoding environment into quantum amplitude vector...\n",
            ">>> Running quantum-inspired hazard detection algorithm...\n",
            ">>> Evaluating decision logic...\n",
            "\n",
            "✅ QAI Robot Status: Alert: Major Hazards Detected\n",
            ">>> Generating hazard map...\n",
            "\n"
          ]
        },
        {
          "output_type": "display_data",
          "data": {
            "text/plain": [
              "<Figure size 600x600 with 1 Axes>"
            ],
            "image/png": "[encoded data removed]"
          },
          "metadata": {}
        }
      ],
      "source": [
        "# -------------------------------\n",
        "# QAI Framework: Hazard Detection Robot (Simulation)\n",
        "# -------------------------------\n",
        "\n",
        "import numpy as np\n",
        "import matplotlib.pyplot as plt\n",
        "\n",
        "# ===============================\n",
        "# QAI FRAMEWORK INITIALIZATION\n",
        "# ===============================\n",
        "\n",
        "# Step 1: Define Data Structures\n",
        "# Environment Grid → 2D numpy array\n",
        "# Encoded Amplitude Vector → 1D numpy array\n",
        "# Hazard List → List of (index, value) tuples\n",
        "\n",
        "# Step 2: Initialize QAI Components\n",
        "# Models: Encoding Model, Decision Logic\n",
        "# Algorithms: Quantum-inspired Search (mock Grover logic)\n",
        "# I/O: Grid input, Visual report output\n",
        "\n",
        "# ===============================\n",
        "# QAI DATA STRUCTURE DEFINITIONS\n",
        "# ===============================\n",
        "\n",
        "def generate_environment(grid_size=10, hazard_prob=0.2):\n",
        "    \"\"\"\n",
        "    Simulated 2D environment grid.\n",
        "    0 = safe, 1 = hazard\n",
        "    \"\"\"\n",
        "    env = np.random.choice([0, 1], size=(grid_size, grid_size), p=[1-hazard_prob, hazard_prob])\n",
        "    return env  # Data structure: np.ndarray\n",
        "\n",
        "# ===============================\n",
        "# QAI MODEL: ENCODING ENVIRONMENT\n",
        "# ===============================\n",
        "\n",
        "def encode_environment(env_matrix):\n",
        "    \"\"\"\n",
        "    Classical-to-quantum encoding: Normalize the 2D environment matrix\n",
        "    to a 1D amplitude vector (unit norm).\n",
        "    \"\"\"\n",
        "    flat = env_matrix.flatten()\n",
        "    norm = np.linalg.norm(flat)\n",
        "    amplitude_vector = flat / norm if norm != 0 else flat\n",
        "    return amplitude_vector  # Data structure: np.ndarray (1D)\n",
        "\n",
        "# ===============================\n",
        "# QAI ALGORITHM: HAZARD DETECTION\n",
        "# ===============================\n",
        "\n",
        "def detect_hazards(encoded_vector, threshold=0.1):\n",
        "    \"\"\"\n",
        "    Quantum-inspired search algorithm (mock Grover’s logic).\n",
        "    Selects amplitudes above threshold as hazard indicators.\n",
        "    \"\"\"\n",
        "    hazards = []\n",
        "    for i, val in enumerate(encoded_vector):\n",
        "        if val > threshold:\n",
        "            hazards.append((i, val))  # index and strength\n",
        "    return hazards  # Data structure: list of tuples\n",
        "\n",
        "# ===============================\n",
        "# QAI MODEL: SENTIENT DECISION LOGIC\n",
        "# ===============================\n",
        "\n",
        "def plan_action(hazards, grid_size):\n",
        "    \"\"\"\n",
        "    Simple policy model to interpret hazard density.\n",
        "    Returns system status and highlighted hazards.\n",
        "    \"\"\"\n",
        "    total = len(hazards)\n",
        "    if total == 0:\n",
        "        return \"Environment Clear\", []\n",
        "    elif total < grid_size:\n",
        "        return \"Caution: Minor Hazards Detected\", hazards\n",
        "    else:\n",
        "        return \"Alert: Major Hazards Detected\", hazards\n",
        "\n",
        "# ===============================\n",
        "# QAI OUTPUT INTERFACE: VISUAL REPORT\n",
        "# ===============================\n",
        "\n",
        "def generate_report(env_matrix, hazards, grid_size):\n",
        "    \"\"\"\n",
        "    Generate a visual map showing hazards on the environment.\n",
        "    \"\"\"\n",
        "    plt.figure(figsize=(6, 6))\n",
        "    plt.imshow(env_matrix, cmap='Greys', origin='upper')\n",
        "    plt.title(\"Hazard Map\")\n",
        "    for idx, _ in hazards:\n",
        "        x = idx % grid_size\n",
        "        y = idx // grid_size\n",
        "        plt.scatter(x, y, c='red', marker='x')\n",
        "    plt.grid(False)\n",
        "    plt.show()\n",
        "\n",
        "# ===============================\n",
        "# QAI PROJECT DEMO: MAIN EXECUTION\n",
        "# ===============================\n",
        "\n",
        "def qai_simulation():\n",
        "    \"\"\"\n",
        "    Full simulation of a QAI-enabled robot scanning its environment.\n",
        "    Includes framework init, data handling, model invocation, and output.\n",
        "    \"\"\"\n",
        "    print(\">>> Initializing QAI Framework...\")\n",
        "\n",
        "    # Define simulation parameters\n",
        "    grid_size = 10\n",
        "\n",
        "    # Step 1: Generate Input Data (environment scan)\n",
        "    print(\">>> Generating environment matrix...\")\n",
        "    env = generate_environment(grid_size)\n",
        "\n",
        "    # Step 2: Encode Input (simulate quantum perception)\n",
        "    print(\">>> Encoding environment into quantum amplitude vector...\")\n",
        "    encoded = encode_environment(env)\n",
        "\n",
        "    # Step 3: Run Hazard Detection (QAI algorithm logic)\n",
        "    print(\">>> Running quantum-inspired hazard detection algorithm...\")\n",
        "    hazards = detect_hazards(encoded, threshold=0.1)\n",
        "\n",
        "    # Step 4: Decision Model\n",
        "    print(\">>> Evaluating decision logic...\")\n",
        "    status, marked = plan_action(hazards, grid_size)\n",
        "    print(f\"\\n✅ QAI Robot Status: {status}\")\n",
        "\n",
        "    # Step 5: Output Report\n",
        "    print(\">>> Generating hazard map...\\n\")\n",
        "    generate_report(env, marked, grid_size)\n",
        "\n",
        "# Run the complete QAI simulation\n",
        "qai_simulation()\n"
      ]
    },
    {
      "cell_type": "markdown",
      "source": [
        "**Concept and execution by Bhadale IT, code generated by ChatGPT**"
      ],
      "metadata": {
        "id": "XIWhWpfNNXiD"
      }
    }
  ]
}